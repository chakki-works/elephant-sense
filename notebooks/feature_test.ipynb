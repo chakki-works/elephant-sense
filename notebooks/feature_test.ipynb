{
 "cells": [
  {
   "cell_type": "markdown",
   "metadata": {},
   "source": [
    "# Load the Dataset\n",
    "\n",
    "* annotated json files have to be stored in the `data/processed` dir.\n"
   ]
  },
  {
   "cell_type": "code",
   "execution_count": 25,
   "metadata": {
    "collapsed": false
   },
   "outputs": [
    {
     "name": "stdout",
     "output_type": "stream",
     "text": [
      "The autoreload extension is already loaded. To reload it, use:\n",
      "  %reload_ext autoreload\n"
     ]
    }
   ],
   "source": [
    "%load_ext autoreload\n",
    "%autoreload 2"
   ]
  },
  {
   "cell_type": "code",
   "execution_count": 26,
   "metadata": {
    "collapsed": false
   },
   "outputs": [
    {
     "data": {
      "text/html": [
       "<div>\n",
       "<table border=\"1\" class=\"dataframe\">\n",
       "  <thead>\n",
       "    <tr style=\"text-align: right;\">\n",
       "      <th></th>\n",
       "      <th>body</th>\n",
       "      <th>post_id</th>\n",
       "      <th>quality</th>\n",
       "      <th>section_count</th>\n",
       "      <th>title</th>\n",
       "      <th>title_length</th>\n",
       "      <th>url</th>\n",
       "      <th>user_followers_count</th>\n",
       "      <th>user_id</th>\n",
       "    </tr>\n",
       "  </thead>\n",
       "  <tbody>\n",
       "    <tr>\n",
       "      <th>0</th>\n",
       "      <td>\\n# Development Environment\\n- OS X El Captain...</td>\n",
       "      <td>00a2a3dc557089d95ec0</td>\n",
       "      <td>0</td>\n",
       "      <td>3</td>\n",
       "      <td>Intに数字の単位をつけて表示させたい (Ex. 1,000 -&gt; 1K, 2,000,00...</td>\n",
       "      <td>54</td>\n",
       "      <td>http://qiita.com/law/items/00a2a3dc557089d95ec0</td>\n",
       "      <td>2</td>\n",
       "      <td>law</td>\n",
       "    </tr>\n",
       "    <tr>\n",
       "      <th>1</th>\n",
       "      <td>#gulp.spritesmith\\n- CSS Spriteとそれに対応した scssファ...</td>\n",
       "      <td>0a0d29de9a2785d00ca0</td>\n",
       "      <td>0</td>\n",
       "      <td>8</td>\n",
       "      <td>CSS Sprite自動生成(gulp.spritesmith)</td>\n",
       "      <td>32</td>\n",
       "      <td>http://qiita.com/hththt/items/0a0d29de9a2785d0...</td>\n",
       "      <td>24</td>\n",
       "      <td>hththt</td>\n",
       "    </tr>\n",
       "    <tr>\n",
       "      <th>2</th>\n",
       "      <td>ハマったのでメモ。\\nまあRailsで１から作っている場合は遭遇しないかもしれませんが・・・...</td>\n",
       "      <td>0a1ed3bd751e117094a3</td>\n",
       "      <td>1</td>\n",
       "      <td>7</td>\n",
       "      <td>カラム型TINYINTの場合にActiveRecord::Enumを使いたい</td>\n",
       "      <td>38</td>\n",
       "      <td>http://qiita.com/SaxtonDrey/items/0a1ed3bd751e...</td>\n",
       "      <td>2</td>\n",
       "      <td>SaxtonDrey</td>\n",
       "    </tr>\n",
       "  </tbody>\n",
       "</table>\n",
       "</div>"
      ],
      "text/plain": [
       "                                                body               post_id  \\\n",
       "0  \\n# Development Environment\\n- OS X El Captain...  00a2a3dc557089d95ec0   \n",
       "1  #gulp.spritesmith\\n- CSS Spriteとそれに対応した scssファ...  0a0d29de9a2785d00ca0   \n",
       "2  ハマったのでメモ。\\nまあRailsで１から作っている場合は遭遇しないかもしれませんが・・・...  0a1ed3bd751e117094a3   \n",
       "\n",
       "   quality  section_count                                              title  \\\n",
       "0        0              3  Intに数字の単位をつけて表示させたい (Ex. 1,000 -> 1K, 2,000,00...   \n",
       "1        0              8                   CSS Sprite自動生成(gulp.spritesmith)   \n",
       "2        1              7             カラム型TINYINTの場合にActiveRecord::Enumを使いたい   \n",
       "\n",
       "   title_length                                                url  \\\n",
       "0            54    http://qiita.com/law/items/00a2a3dc557089d95ec0   \n",
       "1            32  http://qiita.com/hththt/items/0a0d29de9a2785d0...   \n",
       "2            38  http://qiita.com/SaxtonDrey/items/0a1ed3bd751e...   \n",
       "\n",
       "   user_followers_count     user_id  \n",
       "0                     2         law  \n",
       "1                    24      hththt  \n",
       "2                     2  SaxtonDrey  "
      ]
     },
     "execution_count": 26,
     "metadata": {},
     "output_type": "execute_result"
    }
   ],
   "source": [
    "import os\n",
    "import sys\n",
    "sys.path.append(os.path.abspath(os.path.join(\"..\")))\n",
    "import pandas as pd\n",
    "import numpy as np\n",
    "from scripts.features.reader import Reader\n",
    "from scripts.features.post_feature import PostFeature\n",
    "from scripts.features.length_extractor import TitleLengthExtractor, SectionCountExtractor\n",
    "\n",
    "\n",
    "reader = Reader()\n",
    "pf_dicts = []\n",
    "for p in reader.post_iterator():\n",
    "    pf = PostFeature(p)\n",
    "    pf.add(TitleLengthExtractor())\n",
    "    pf.add(SectionCountExtractor())\n",
    "    pf_d = pf.to_dict(drop_disused_feature=False)  # default True -> drop title, body etc fields\n",
    "    pf_dicts.append(pf_d)\n",
    "    \n",
    "pf_df = pd.DataFrame(pf_dicts)\n",
    "pf_df.head(5)"
   ]
  },
  {
   "cell_type": "code",
   "execution_count": 27,
   "metadata": {
    "collapsed": false
   },
   "outputs": [],
   "source": [
    "# drop disused features\n",
    "if \"post_id\" in pf_df.columns:\n",
    "    pf_df.drop(pf_df[[\"post_id\", \"title\", \"body\", \"url\", \"user_id\"]], axis=1, inplace=True)\n",
    "\n",
    "quality = pf_df[\"quality\"]\n",
    "pf_df.drop(\"quality\", axis=1, inplace=True)"
   ]
  },
  {
   "cell_type": "code",
   "execution_count": 28,
   "metadata": {
    "collapsed": true
   },
   "outputs": [],
   "source": [
    "# normalize\n",
    "from sklearn.preprocessing import StandardScaler\n",
    "scaler = StandardScaler()\n",
    "pf_df_n = scaler.fit_transform(pf_df)"
   ]
  },
  {
   "cell_type": "code",
   "execution_count": 31,
   "metadata": {
    "collapsed": false
   },
   "outputs": [
    {
     "name": "stderr",
     "output_type": "stream",
     "text": [
      "/Users/smap6/.pyenv/versions/miniconda3-3.9.1/envs/nlp/lib/python3.6/site-packages/sklearn/model_selection/_split.py:581: Warning: The least populated class in y has only 1 members, which is too few. The minimum number of groups for any class cannot be less than n_splits=2.\n",
      "  % (min_groups, self.n_splits)), Warning)\n",
      "/Users/smap6/.pyenv/versions/miniconda3-3.9.1/envs/nlp/lib/python3.6/site-packages/sklearn/metrics/classification.py:1113: UndefinedMetricWarning: F-score is ill-defined and being set to 0.0 due to no predicted samples.\n",
      "  'precision', 'predicted', average, warn_for)\n",
      "/Users/smap6/.pyenv/versions/miniconda3-3.9.1/envs/nlp/lib/python3.6/site-packages/sklearn/metrics/classification.py:1115: UndefinedMetricWarning: F-score is ill-defined and being set to 0.0 due to no true samples.\n",
      "  'recall', 'true', average, warn_for)\n",
      "/Users/smap6/.pyenv/versions/miniconda3-3.9.1/envs/nlp/lib/python3.6/site-packages/sklearn/metrics/classification.py:1113: UndefinedMetricWarning: Precision and F-score are ill-defined and being set to 0.0 in labels with no predicted samples.\n",
      "  'precision', 'predicted', average, warn_for)\n",
      "/Users/smap6/.pyenv/versions/miniconda3-3.9.1/envs/nlp/lib/python3.6/site-packages/sklearn/metrics/classification.py:1115: UndefinedMetricWarning: Recall and F-score are ill-defined and being set to 0.0 in labels with no true samples.\n",
      "  'recall', 'true', average, warn_for)\n"
     ]
    },
    {
     "name": "stdout",
     "output_type": "stream",
     "text": [
      "[ 0.  0.]\n",
      "             precision    recall  f1-score   support\n",
      "\n",
      "        bad       0.00      0.00      0.00         1\n",
      "       good       0.00      0.00      0.00         0\n",
      "\n",
      "avg / total       0.00      0.00      0.00         1\n",
      "\n"
     ]
    },
    {
     "data": {
      "image/png": "[encoded data removed]",
      "text/plain": [
       "<matplotlib.figure.Figure at 0x1187d4d30>"
      ]
     },
     "metadata": {},
     "output_type": "display_data"
    }
   ],
   "source": [
    "import matplotlib.pyplot as plt\n",
    "from sklearn.ensemble import RandomForestClassifier\n",
    "from sklearn.svm import SVC\n",
    "from sklearn.model_selection import cross_val_score\n",
    "from sklearn.model_selection import train_test_split\n",
    "from sklearn.metrics import classification_report\n",
    "\n",
    "# estimate accuracy by cross validation\n",
    "clf = RandomForestClassifier(n_estimators=15, max_features=0.5)\n",
    "scores = cross_val_score(clf, pf_df_n,  quality, cv=2, scoring=\"f1\")\n",
    "print(scores)\n",
    "\n",
    "# train and show score\n",
    "train_f, test_f, train_lb, test_lb = train_test_split(pf_df_n, quality, test_size=0.2, random_state=42)\n",
    "clf.fit(train_f, train_lb)\n",
    "pred = clf.predict(test_f)\n",
    "print(classification_report(test_lb, pred, target_names=[\"bad\", \"good\"]))\n",
    "\n",
    "# show feature importance\n",
    "importances = clf.feature_importances_\n",
    "std = np.std([tree.feature_importances_ for tree in clf.estimators_], axis=0)\n",
    "indices = np.argsort(importances)[::-1]\n",
    "\n",
    "# Plot the feature importances of the forest\n",
    "labels = np.array(pf_df.columns.values.tolist())\n",
    "plt.figure()\n",
    "plt.title(\"Feature importances\")\n",
    "plt.bar(range(len(labels)), importances[indices], color=\"r\", yerr=std[indices], align=\"center\")\n",
    "plt.xticks(range(len(labels)), labels[indices], rotation=\"vertical\")\n",
    "plt.xlim([-1, len(labels)])\n",
    "plt.ylim([0, 1])\n",
    "plt.tight_layout()\n",
    "plt.show()"
   ]
  },
  {
   "cell_type": "code",
   "execution_count": null,
   "metadata": {
    "collapsed": true
   },
   "outputs": [],
   "source": []
  }
 ],
 "metadata": {
  "kernelspec": {
   "display_name": "Python 3",
   "language": "python",
   "name": "python3"
  },
  "language_info": {
   "codemirror_mode": {
    "name": "ipython",
    "version": 3
   },
   "file_extension": ".py",
   "mimetype": "text/x-python",
   "name": "python",
   "nbconvert_exporter": "python",
   "pygments_lexer": "ipython3",
   "version": "3.6.0"
  }
 },
 "nbformat": 4,
 "nbformat_minor": 2
}
